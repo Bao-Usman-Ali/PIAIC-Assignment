{
 "cells": [
  {
   "cell_type": "code",
   "execution_count": 8,
   "metadata": {},
   "outputs": [
    {
     "name": "stdout",
     "output_type": "stream",
     "text": [
      "please enter the radius: 67\n",
      "the area of circle is:  14102.6094\n",
      "circumference is =  420.973\n"
     ]
    }
   ],
   "source": [
    "import math\n",
    "pi = math.pi\n",
    "radius = float(input(\"please enter the radius: \"))\n",
    "area = pi * (radius**2)\n",
    "print(\"the area of circle is: \", round(area,4))\n",
    "circumference = 2 * pi * radius\n",
    "print(\"circumference is = \", round(circumference,3))"
   ]
  },
  {
   "cell_type": "code",
   "execution_count": 9,
   "metadata": {},
   "outputs": [
    {
     "name": "stdout",
     "output_type": "stream",
     "text": [
      "I live in:  Faisalabad\n"
     ]
    }
   ],
   "source": [
    "cities = [\"Faisalabad\", \"Lahore\", \"karachi\", \"Islamabad\", \"Queta\"]\n",
    "scores = [45, 74, 50, 33, 55]\n",
    "result = [93.4, 95, 98.7,87.4,83.02]\n",
    "index = cities[0]\n",
    "print(\"I live in: \", index)"
   ]
  },
  {
   "cell_type": "code",
   "execution_count": 10,
   "metadata": {},
   "outputs": [
    {
     "name": "stdout",
     "output_type": "stream",
     "text": [
      "please enter the name of your city faisalabad\n",
      "You live in Faisalabad\n"
     ]
    }
   ],
   "source": [
    "city = input(\"please enter the name of your city \").title()\n",
    "if(city == cities[0] ):\n",
    "    print(\"You live in Faisalabad\")\n",
    "elif(city == cities[1]):\n",
    "    print(\"You live in Lahore\")\n",
    "elif(city == cities[2]):\n",
    "    print(\"You live in Karachi\")\n",
    "elif(city == cities[3]):\n",
    "    print(\"You live in Islamabad\")\n",
    "elif(city == cities[4]):\n",
    "    print(\"You live in Queta\")\n",
    "else:\n",
    "    print(\"Not Found\")\n"
   ]
  },
  {
   "cell_type": "code",
   "execution_count": null,
   "metadata": {},
   "outputs": [],
   "source": []
  },
  {
   "cell_type": "code",
   "execution_count": null,
   "metadata": {},
   "outputs": [],
   "source": []
  }
 ],
 "metadata": {
  "kernelspec": {
   "display_name": "Python 3",
   "language": "python",
   "name": "python3"
  }
 },
 "nbformat": 4,
 "nbformat_minor": 2
}
